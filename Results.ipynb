{
 "cells": [
  {
   "cell_type": "markdown",
   "metadata": {},
   "source": [
    "### 10. Results"
   ]
  },
  {
   "cell_type": "code",
   "execution_count": 1,
   "metadata": {},
   "outputs": [
    {
     "name": "stdout",
     "output_type": "stream",
     "text": [
      "+---------------------+------------------+----------------------+---------------------+\n",
      "|        Model        | Validation Score | Kaggle Private Score | Kaggle Public Score |\n",
      "+---------------------+------------------+----------------------+---------------------+\n",
      "|         UNet        |     0.63119      |       0.80213        |       0.79028       |\n",
      "|       LinkNet       |     0.63115      |       0.79697        |       0.78599       |\n",
      "|   UNet with Resnet  |     0.60182      |       0.75377        |       0.74497       |\n",
      "| LinkNet with Resnet |     0.67271      |       0.77851        |       0.78007       |\n",
      "|        UNet++       |     0.57341      |       0.83198        |       0.83865       |\n",
      "+---------------------+------------------+----------------------+---------------------+\n"
     ]
    }
   ],
   "source": [
    "from prettytable import PrettyTable \n",
    "  \n",
    "myTable = PrettyTable([ \"Model\", \"Validation Score\", \"Kaggle Private Score\", \"Kaggle Public Score\"]) \n",
    "\n",
    "myTable.add_row([\"UNet\", \"0.63119\", \"0.80213\", \"0.79028\"]) \n",
    "myTable.add_row([\"LinkNet\", \"0.63115\", \"0.79697\", \"0.78599\"]) \n",
    "myTable.add_row([\"UNet with Resnet\", \"0.60182\", \"0.75377\", \"0.74497\"]) \n",
    "myTable.add_row([\"LinkNet with Resnet\", \"0.67271\", \"0.77851\", \"0.78007\"])\n",
    "myTable.add_row([\"UNet++\", \"0.57341\", \"0.83198\", \"0.83865\"])\n",
    "  \n",
    "print(myTable)"
   ]
  },
  {
   "cell_type": "markdown",
   "metadata": {},
   "source": [
    "- Though the Validation score is lowest among all, UNet++ Architecture performed very well on Final Test data. "
   ]
  }
 ],
 "metadata": {
  "kernelspec": {
   "display_name": "Python 3",
   "language": "python",
   "name": "python3"
  },
  "language_info": {
   "codemirror_mode": {
    "name": "ipython",
    "version": 3
   },
   "file_extension": ".py",
   "mimetype": "text/x-python",
   "name": "python",
   "nbconvert_exporter": "python",
   "pygments_lexer": "ipython3",
   "version": "3.7.3"
  }
 },
 "nbformat": 4,
 "nbformat_minor": 2
}
