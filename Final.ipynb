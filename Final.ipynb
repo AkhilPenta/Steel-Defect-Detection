{
 "cells": [
  {
   "cell_type": "markdown",
   "metadata": {},
   "source": [
    "## 11. Final Functions"
   ]
  },
  {
   "cell_type": "code",
   "execution_count": 1,
   "metadata": {
    "id": "cX6XSfW-S6VR"
   },
   "outputs": [],
   "source": [
    "import numpy as np\n",
    "import pandas as pd\n",
    "from PIL import Image\n",
    "import tensorflow as tf\n",
    "import time"
   ]
  },
  {
   "cell_type": "code",
   "execution_count": 2,
   "metadata": {
    "colab": {
     "base_uri": "https://localhost:8080/"
    },
    "id": "OWDA1BD8V83O",
    "outputId": "8ae0ddd1-f03c-42be-9fc7-1a3faea1b432"
   },
   "outputs": [
    {
     "name": "stdout",
     "output_type": "stream",
     "text": [
      "Mounted at /content/drive\n"
     ]
    }
   ],
   "source": [
    "from google.colab import drive\n",
    "drive.mount('/content/drive')"
   ]
  },
  {
   "cell_type": "code",
   "execution_count": 3,
   "metadata": {
    "id": "XrEW5nkRSWMV"
   },
   "outputs": [],
   "source": [
    "path = '/content/drive/MyDrive/cs2/'"
   ]
  },
  {
   "cell_type": "code",
   "execution_count": 13,
   "metadata": {
    "id": "CiZ097kHP1ED"
   },
   "outputs": [],
   "source": [
    "#Loading Unet++ trained model\n",
    "objects = {'bce_dice_loss':bce_dice_loss, 'dice_coefficient': dice_coefficient}\n",
    "model = tf.keras.models.load_model(path + 'unet_pp', custom_objects = objects)"
   ]
  },
  {
   "cell_type": "code",
   "execution_count": 8,
   "metadata": {
    "id": "VjD8dE6qVAev"
   },
   "outputs": [],
   "source": [
    "#loading Validation Data dataframe\n",
    "vali_data = pd.read_csv(path + \"data/validtn_data.csv\").fillna('')\n",
    "x= vali_data['ImageId'].tolist()\n",
    "y = list(vali_data[['rle_1', 'rle_2', 'rle_3', 'rle_4']].to_records(index = False))"
   ]
  },
  {
   "cell_type": "markdown",
   "metadata": {},
   "source": [
    "### 11.1 Final Function - 1"
   ]
  },
  {
   "cell_type": "code",
   "execution_count": 15,
   "metadata": {
    "id": "zL3TIMuaVAew"
   },
   "outputs": [],
   "source": [
    "#Implementing custom data generator for predictions\n",
    "#https://towardsdatascience.com/implementing-custom-data-generators-in-keras-de56f013581c\n",
    "class PredictDataGenerator(tf.keras.utils.Sequence):\n",
    "    def __init__(self,total_img_list, img_folder_path, list_idcs, batch_size=32 ):\n",
    "        self.batch_size = batch_size\n",
    "        self.img_list = total_img_list\n",
    "        self.path = img_folder_path\n",
    "        self.list_idcs = list_idcs\n",
    "        self.indices = list(range(0,len(total_img_list)))\n",
    "        #self.rem = len(self.list_idcs) % (self.batch_size)\n",
    "        self.on_epoch_end()\n",
    "\n",
    "    def __len__(self):\n",
    "        return len(self.list_idcs) // (self.batch_size)\n",
    "\n",
    "    def __getitem__(self, index):\n",
    "        index = self.index[index * self.batch_size:(index + 1) * self.batch_size]\n",
    "        batch = [self.indices[k] for k in index]\n",
    "        X = self.__get_data(batch)\n",
    "        return X\n",
    "    \n",
    "    def on_epoch_end(self):\n",
    "        self.index = np.arange(len(self.list_idcs))\n",
    "\n",
    "    def __get_data(self, batch):\n",
    "        X = np.empty((self.batch_size,256,1600,3),dtype=np.float32) # image place-holders\n",
    "              \n",
    "        for i, id in enumerate(batch):\n",
    "            img = Image.open( self.path + str(self.img_list[id]))\n",
    "            X[i,] = img#input image\n",
    "\n",
    "        return X\n",
    "        \n",
    "def final_fun_1(X):\n",
    "    '''\n",
    "    X: List of Image Ids\n",
    "    returns: List of tuples(containing rles of predicted masks) for the corresponding Image Ids\n",
    "    '''        \n",
    "    predictions_list = []\n",
    "    for i in range(0,len(X),320):\n",
    "        batch_idcs =  list(range(i, min(len(X), i + 320)))\n",
    "        if len(batch_idcs)== 320:        \n",
    "            sub_batch = PredictDataGenerator(total_img_list = X,\n",
    "                                          img_folder_path = path + 'data/train_images/',\n",
    "                                          list_idcs = batch_idcs)\n",
    "        else:\n",
    "            sub_batch = PredictDataGenerator(total_img_list = X,\n",
    "                                          img_folder_path = path + 'data/train_images/',\n",
    "                                          list_idcs = batch_idcs,\n",
    "                                          batch_size= len(batch_idcs))\n",
    "\n",
    "        subbatch_pred_masks = model.predict(sub_batch)\n",
    "\n",
    "        for j, idx in enumerate(batch_idcs):\n",
    "            rle1 = mask2rle(subbatch_pred_masks[j,:,:,0].round().astype(int))\n",
    "            rle2 = mask2rle(subbatch_pred_masks[j,:,:,1].round().astype(int))\n",
    "            rle3 = mask2rle(subbatch_pred_masks[j,:,:,2].round().astype(int))\n",
    "            rle4 = mask2rle(subbatch_pred_masks[j,:,:,3].round().astype(int))\n",
    "            predictions_list.append((rle1, rle2, rle3, rle4))\n",
    "    \n",
    "    return predictions_list"
   ]
  },
  {
   "cell_type": "code",
   "execution_count": 17,
   "metadata": {
    "colab": {
     "base_uri": "https://localhost:8080/"
    },
    "id": "G1PiExFoVAew",
    "outputId": "eb8f64f4-5782-4315-e6b6-1a5221a0ef59"
   },
   "outputs": [
    {
     "name": "stdout",
     "output_type": "stream",
     "text": [
      "Total time taken for prediction: 33.25752305984497 seconds\n"
     ]
    }
   ],
   "source": [
    "start_time = time.time()\n",
    "predicted_masks = final_fun_1(x[0:1000])\n",
    "print(\"Total time taken for prediction: %s seconds\" % (time.time() - start_time))"
   ]
  },
  {
   "cell_type": "markdown",
   "metadata": {},
   "source": [
    "### 11.1 Final Function - 2"
   ]
  },
  {
   "cell_type": "code",
   "execution_count": 10,
   "metadata": {
    "id": "XiGvQh4EGRKY"
   },
   "outputs": [],
   "source": [
    "# Implementing custom data generator for validation or evaluation\n",
    "#https://towardsdatascience.com/implementing-custom-data-generators-in-keras-de56f013581c\n",
    "class ValidationDataGenerator(tf.keras.utils.Sequence):\n",
    "    def __init__(self,total_img_list, total_mask_list, img_folder_path, list_idcs, batch_size=32 ):\n",
    "        self.batch_size = batch_size\n",
    "        self.img_list = total_img_list\n",
    "        self.mask_list = total_mask_list\n",
    "        self.path = img_folder_path\n",
    "        self.list_idcs = list_idcs\n",
    "        self.indices = list(range(0,len(total_img_list)))\n",
    "        self.on_epoch_end()\n",
    "\n",
    "    def __len__(self):\n",
    "        return len(self.list_idcs) // (self.batch_size)\n",
    "\n",
    "    def __getitem__(self, index):\n",
    "        index = self.index[index * self.batch_size:(index + 1) * self.batch_size]\n",
    "        batch = [self.indices[k] for k in index]\n",
    "        X,Y = self.__get_data(batch)\n",
    "        return X,Y\n",
    "\n",
    "    def on_epoch_end(self):\n",
    "        self.index = np.arange(len(self.list_idcs))\n",
    "\n",
    "    def __get_data(self, batch):\n",
    "        X = np.empty((self.batch_size,256,1600,3),dtype=np.float32) # image place-holders\n",
    "        Y = np.empty((self.batch_size,256,1600,4),dtype=np.float32)# 4 masks place-holders\n",
    "\n",
    "        for i, id in enumerate(batch):\n",
    "            img = Image.open( self.path + str(self.img_list[id]))\n",
    "            X[i,] = img#input image\n",
    "            for j in range(4): #looping for each class\n",
    "                Y[i,:,:,j] = rle2mask(self.mask_list[id][j])#mask for each class\n",
    "\n",
    "        return X, Y\n",
    "\n",
    "        \n",
    "def final_fun_2(X, Y):\n",
    "    '''\n",
    "    X: List of Image Ids\n",
    "    Y: List of tuples(containing rles of actual/ground-truth masks) for the corresponding Image Ids\n",
    "    returns: dice-coeeficient calculated based on the the predictions\n",
    "    '''\n",
    "       \n",
    "    validtn_batches = ValidationDataGenerator(total_img_list = x,\n",
    "                                          total_mask_list = y,\n",
    "                                          img_folder_path = path + 'data/train_images/',\n",
    "                                          list_idcs = list(range(0,len(x))))\n",
    "    loss, dice_coefficient = model.evaluate(validtn_batches,verbose=None)\n",
    "    return dice_coefficient\n"
   ]
  },
  {
   "cell_type": "code",
   "execution_count": 11,
   "metadata": {
    "colab": {
     "base_uri": "https://localhost:8080/"
    },
    "id": "0loJ9NQxG19q",
    "outputId": "ec12cbef-971d-47fd-faa8-c23895e38512",
    "scrolled": true
   },
   "outputs": [
    {
     "name": "stdout",
     "output_type": "stream",
     "text": [
      "Dice Coefficient for validation data:  0.5786705017089844\n",
      "Total time taken for metric computation: 468.059677362442 seconds\n"
     ]
    }
   ],
   "source": [
    "start_time = time.time()\n",
    "dice_coeff = final_fun_2(x, y)\n",
    "print('Dice Coefficient for validation data: ', dice_coeff)\n",
    "print(\"Total time taken for metric computation: %s seconds\" % (time.time() - start_time))"
   ]
  },
  {
   "cell_type": "code",
   "execution_count": 12,
   "metadata": {
    "colab": {
     "base_uri": "https://localhost:8080/"
    },
    "id": "plHrgbYsfOzK",
    "outputId": "623dd32a-a52d-4df5-e879-c6f0e850ee80"
   },
   "outputs": [
    {
     "name": "stdout",
     "output_type": "stream",
     "text": [
      "Dice Coefficient for validation data:  0.5786705017089844\n",
      "Total time taken for metric computation: 33.57013773918152 seconds\n"
     ]
    }
   ],
   "source": [
    "start_time = time.time()\n",
    "dice_coeff = final_fun_2(x, y)\n",
    "print('Dice Coefficient for validation data: ', dice_coeff)\n",
    "print(\"Total time taken for metric computation: %s seconds\" % (time.time() - start_time))\n"
   ]
  }
 ],
 "metadata": {
  "accelerator": "GPU",
  "colab": {
   "collapsed_sections": [],
   "name": "Final.ipynb",
   "provenance": []
  },
  "kernelspec": {
   "display_name": "Python 3",
   "language": "python",
   "name": "python3"
  },
  "language_info": {
   "codemirror_mode": {
    "name": "ipython",
    "version": 3
   },
   "file_extension": ".py",
   "mimetype": "text/x-python",
   "name": "python",
   "nbconvert_exporter": "python",
   "pygments_lexer": "ipython3",
   "version": "3.7.3"
  }
 },
 "nbformat": 4,
 "nbformat_minor": 1
}
